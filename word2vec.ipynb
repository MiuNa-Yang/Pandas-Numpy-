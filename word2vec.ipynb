{
 "cells": [
  {
   "cell_type": "code",
   "execution_count": 1,
   "id": "2ffa2efb",
   "metadata": {},
   "outputs": [
    {
     "name": "stderr",
     "output_type": "stream",
     "text": [
      "D:\\Users\\xinhongyang\\Anaconda3\\lib\\site-packages\\gensim\\similarities\\__init__.py:15: UserWarning: The gensim.similarities.levenshtein submodule is disabled, because the optional Levenshtein package <https://pypi.org/project/python-Levenshtein/> is unavailable. Install Levenhstein (e.g. `pip install python-Levenshtein`) to suppress this warning.\n",
      "  warnings.warn(msg)\n"
     ]
    }
   ],
   "source": [
    "import pandas as pd\n",
    "import jieba\n",
    "import gensim"
   ]
  },
  {
   "cell_type": "code",
   "execution_count": 27,
   "id": "5e74e408",
   "metadata": {},
   "outputs": [],
   "source": [
    "# 找了最近看的小说，并使用w2v训练词向量，并通过计算词之间的余弦相似度，发现了一些有趣的结果\n",
    "df = pd.read_table('resources/三体.txt', header=None)"
   ]
  },
  {
   "cell_type": "code",
   "execution_count": 3,
   "id": "7b5f0622",
   "metadata": {},
   "outputs": [
    {
     "data": {
      "text/html": [
       "<div>\n",
       "<style scoped>\n",
       "    .dataframe tbody tr th:only-of-type {\n",
       "        vertical-align: middle;\n",
       "    }\n",
       "\n",
       "    .dataframe tbody tr th {\n",
       "        vertical-align: top;\n",
       "    }\n",
       "\n",
       "    .dataframe thead th {\n",
       "        text-align: right;\n",
       "    }\n",
       "</style>\n",
       "<table border=\"1\" class=\"dataframe\">\n",
       "  <thead>\n",
       "    <tr style=\"text-align: right;\">\n",
       "      <th></th>\n",
       "      <th>0</th>\n",
       "    </tr>\n",
       "  </thead>\n",
       "  <tbody>\n",
       "    <tr>\n",
       "      <th>0</th>\n",
       "      <td>第1章 科学边界(1)</td>\n",
       "    </tr>\n",
       "    <tr>\n",
       "      <th>1</th>\n",
       "      <td>汪淼觉得，来找他的这四个人是一个奇怪的组合：两名警察和两名军人，如果那两个军人是武警...</td>\n",
       "    </tr>\n",
       "    <tr>\n",
       "      <th>2</th>\n",
       "      <td>汪淼第一眼就对来找他的警察没有好感。其实那名穿警服的年轻人还行，举止很有礼貌，但那位...</td>\n",
       "    </tr>\n",
       "    <tr>\n",
       "      <th>3</th>\n",
       "      <td>“汪淼？”那人问，直呼其名令汪淼很不舒服，况且那人同时还在点烟，头都不抬一下。不等汪...</td>\n",
       "    </tr>\n",
       "    <tr>\n",
       "      <th>4</th>\n",
       "      <td>“请不要在我家里抽烟。”汪淼拦住了他。</td>\n",
       "    </tr>\n",
       "    <tr>\n",
       "      <th>...</th>\n",
       "      <td>...</td>\n",
       "    </tr>\n",
       "    <tr>\n",
       "      <th>12232</th>\n",
       "      <td>但愿大宇宙能够忽略这个误差。</td>\n",
       "    </tr>\n",
       "    <tr>\n",
       "      <th>12233</th>\n",
       "      <td>程心和关一帆进入了飞船，智子最后也进来了。她早就不再穿那身华丽的和服了，她现在身着迷...</td>\n",
       "    </tr>\n",
       "    <tr>\n",
       "      <th>12234</th>\n",
       "      <td>“放心，我在，你们就在！”智子对两位人类朋友说。</td>\n",
       "    </tr>\n",
       "    <tr>\n",
       "      <th>12235</th>\n",
       "      <td>聚变发动机启动了，推进器发出幽幽的蓝光，飞船缓缓地穿过了宇宙之门。</td>\n",
       "    </tr>\n",
       "    <tr>\n",
       "      <th>12236</th>\n",
       "      <td>小宇宙中只剩下漂流瓶和生态球。漂流瓶隐没于黑暗里，在一千米见方的宇宙中，只有生态球里...</td>\n",
       "    </tr>\n",
       "  </tbody>\n",
       "</table>\n",
       "<p>12237 rows × 1 columns</p>\n",
       "</div>"
      ],
      "text/plain": [
       "                                                       0\n",
       "0                                            第1章 科学边界(1)\n",
       "1          汪淼觉得，来找他的这四个人是一个奇怪的组合：两名警察和两名军人，如果那两个军人是武警...\n",
       "2          汪淼第一眼就对来找他的警察没有好感。其实那名穿警服的年轻人还行，举止很有礼貌，但那位...\n",
       "3          “汪淼？”那人问，直呼其名令汪淼很不舒服，况且那人同时还在点烟，头都不抬一下。不等汪...\n",
       "4                                    “请不要在我家里抽烟。”汪淼拦住了他。\n",
       "...                                                  ...\n",
       "12232                                     但愿大宇宙能够忽略这个误差。\n",
       "12233      程心和关一帆进入了飞船，智子最后也进来了。她早就不再穿那身华丽的和服了，她现在身着迷...\n",
       "12234                           “放心，我在，你们就在！”智子对两位人类朋友说。\n",
       "12235                  聚变发动机启动了，推进器发出幽幽的蓝光，飞船缓缓地穿过了宇宙之门。\n",
       "12236      小宇宙中只剩下漂流瓶和生态球。漂流瓶隐没于黑暗里，在一千米见方的宇宙中，只有生态球里...\n",
       "\n",
       "[12237 rows x 1 columns]"
      ]
     },
     "execution_count": 3,
     "metadata": {},
     "output_type": "execute_result"
    }
   ],
   "source": [
    "df"
   ]
  },
  {
   "cell_type": "code",
   "execution_count": 4,
   "id": "cd4534ad",
   "metadata": {},
   "outputs": [],
   "source": [
    "df.columns = ['content']"
   ]
  },
  {
   "cell_type": "code",
   "execution_count": 5,
   "id": "d53e6133",
   "metadata": {},
   "outputs": [],
   "source": [
    "sentence = df['content'].tolist()"
   ]
  },
  {
   "cell_type": "code",
   "execution_count": 6,
   "id": "b3390950",
   "metadata": {},
   "outputs": [],
   "source": [
    "stopwords = []\n",
    "with open('resources/stopwords.dat', 'r', encoding='utf-8') as f:\n",
    "    for item in f.read().split('\\n'):\n",
    "        stopwords.append(item)\n",
    "stopwords.append('说')\n",
    "stopwords.append('问')\n",
    "stopwords.append('走')\n",
    "stopwords.append('想')\n",
    "stopwords.append('看着')\n",
    "stopwords.append('笑')\n",
    "stopwords.append('听')\n",
    "stopwords.append('站')\n",
    "stopwords.append('话')\n"
   ]
  },
  {
   "cell_type": "code",
   "execution_count": 7,
   "id": "0fbc037a",
   "metadata": {},
   "outputs": [],
   "source": [
    "user_dict = ['黑暗森林', '恒纪元', '乱纪元', '面壁人', \n",
    "             '钢印族', '思想钢印', '面壁者', '破壁人',\n",
    "             '艾AA', '东方延绪', '章北海', '三体人',\n",
    "             '希恩斯', '雷迪亚兹', '三体']"
   ]
  },
  {
   "cell_type": "code",
   "execution_count": 8,
   "id": "5edad27b",
   "metadata": {},
   "outputs": [
    {
     "name": "stderr",
     "output_type": "stream",
     "text": [
      "Building prefix dict from the default dictionary ...\n",
      "Loading model from cache D:\\Users\\XINHON~1\\AppData\\Local\\Temp\\jieba.cache\n",
      "Loading model cost 0.734 seconds.\n",
      "Prefix dict has been built succesfully.\n"
     ]
    }
   ],
   "source": [
    "for word in user_dict:\n",
    "    jieba.add_word(word)"
   ]
  },
  {
   "cell_type": "code",
   "execution_count": 9,
   "id": "e66f875e",
   "metadata": {},
   "outputs": [],
   "source": [
    "sentence_cut = [ \" \".join(jieba.lcut(line)) for line in sentence] \n",
    "sentence_no_stopwords = [[word for word in line.split() if word not in stopwords and word.isdigit() == False and len(word) > 1] for line in sentence_cut]"
   ]
  },
  {
   "cell_type": "code",
   "execution_count": 10,
   "id": "391fbba9",
   "metadata": {},
   "outputs": [],
   "source": [
    "\n",
    "sentence_morethan1time = [[token for token in line] for line in sentence_no_stopwords]"
   ]
  },
  {
   "cell_type": "code",
   "execution_count": 28,
   "id": "7bf6fe83",
   "metadata": {},
   "outputs": [],
   "source": [
    "model =gensim.models.Word2Vec(sentence_morethan1time, min_count=5, window=15, vector_size=100)  \n"
   ]
  },
  {
   "cell_type": "code",
   "execution_count": 29,
   "id": "44481c51",
   "metadata": {},
   "outputs": [
    {
     "data": {
      "text/plain": [
       "[('外星', 0.9991335868835449),\n",
       " ('建立', 0.9984848499298096),\n",
       " ('生存', 0.9980037212371826),\n",
       " ('发展', 0.9978880286216736),\n",
       " ('两个', 0.9976970553398132),\n",
       " ('威慑', 0.9976645112037659),\n",
       " ('入侵', 0.9974509477615356),\n",
       " ('智子', 0.9968937635421753),\n",
       " ('力量', 0.9962958097457886),\n",
       " ('打击', 0.9961139559745789),\n",
       " ('广播', 0.9960126280784607),\n",
       " ('危机', 0.9958280920982361),\n",
       " ('基础', 0.9957789778709412),\n",
       " ('生存空间', 0.9955671429634094),\n",
       " ('战争', 0.9952930212020874),\n",
       " ('组织', 0.9952863454818726),\n",
       " ('政策', 0.9942616820335388),\n",
       " ('灾难', 0.9942577481269836),\n",
       " ('独立', 0.9938697218894958),\n",
       " ('保留地', 0.9938545227050781)]"
      ]
     },
     "execution_count": 29,
     "metadata": {},
     "output_type": "execute_result"
    }
   ],
   "source": [
    "model.wv.most_similar('黑暗森林',topn = 20)"
   ]
  },
  {
   "cell_type": "code",
   "execution_count": 30,
   "id": "04c20b96",
   "metadata": {},
   "outputs": [
    {
     "data": {
      "text/plain": [
       "[('法案', 0.9883210062980652),\n",
       " ('委员会', 0.9856600761413574),\n",
       " ('阶梯', 0.9844690561294556),\n",
       " ('联合国', 0.9833248853683472),\n",
       " ('遗忘', 0.982857346534729),\n",
       " ('联大', 0.9822008013725281),\n",
       " ('听证会', 0.9819144010543823),\n",
       " ('PDC', 0.9803274273872375),\n",
       " ('轮值', 0.9794088006019592),\n",
       " ('指定', 0.9789375066757202),\n",
       " ('欺骗', 0.9789195656776428),\n",
       " ('决议', 0.9788923859596252),\n",
       " ('赋予', 0.9788354635238647),\n",
       " ('秘书长', 0.9785037636756897),\n",
       " ('权力', 0.9779738187789917),\n",
       " ('尊重', 0.9778203368186951),\n",
       " ('调用', 0.977790355682373),\n",
       " ('世纪', 0.9776781797409058),\n",
       " ('常任理事', 0.9776700139045715),\n",
       " ('荒唐', 0.9773306250572205)]"
      ]
     },
     "execution_count": 30,
     "metadata": {},
     "output_type": "execute_result"
    }
   ],
   "source": [
    "model.wv.most_similar('面壁者',topn = 20)"
   ]
  },
  {
   "cell_type": "code",
   "execution_count": 31,
   "id": "a3a1dec2",
   "metadata": {},
   "outputs": [
    {
     "data": {
      "text/plain": [
       "[('程心', 0.996200680732727),\n",
       " ('感觉', 0.9899582266807556),\n",
       " ('目光', 0.9844133853912354),\n",
       " ('声音', 0.9782120585441589),\n",
       " ('汪淼', 0.9721925854682922),\n",
       " ('外婆', 0.9612225890159607),\n",
       " ('久违', 0.9562234282493591),\n",
       " ('听到', 0.955552875995636),\n",
       " ('眼睛', 0.9523180723190308),\n",
       " ('史强', 0.9510366916656494),\n",
       " ('孩子', 0.9445911645889282),\n",
       " ('大史', 0.9432521462440491),\n",
       " ('感到', 0.9424772262573242),\n",
       " ('AA', 0.9393141269683838),\n",
       " ('彬彬有礼', 0.9392569065093994),\n",
       " ('路面', 0.9319002628326416),\n",
       " ('异样', 0.9315256476402283),\n",
       " ('睡袋', 0.924375057220459),\n",
       " ('向外看', 0.9172754883766174),\n",
       " ('说话', 0.9169683456420898)]"
      ]
     },
     "execution_count": 31,
     "metadata": {},
     "output_type": "execute_result"
    }
   ],
   "source": [
    "model.wv.most_similar('罗辑',topn = 20)"
   ]
  },
  {
   "cell_type": "code",
   "execution_count": 32,
   "id": "28623335",
   "metadata": {},
   "outputs": [
    {
     "data": {
      "text/plain": [
       "[('身上', 0.9994477033615112),\n",
       " ('说话', 0.9992454051971436),\n",
       " ('好像', 0.9990217685699463),\n",
       " ('主席台', 0.9988998174667358),\n",
       " ('坐在', 0.9988884329795837),\n",
       " ('公主', 0.9987171292304993),\n",
       " ('温暖', 0.9984273314476013),\n",
       " ('衣服', 0.9984129667282104),\n",
       " ('庄颜', 0.998327374458313),\n",
       " ('外面', 0.9982808828353882),\n",
       " ('旁边', 0.9982682466506958),\n",
       " ('画师', 0.9981335401535034),\n",
       " ('一阵', 0.9980555176734924),\n",
       " ('不知', 0.9979269504547119),\n",
       " ('一眼', 0.9977438449859619),\n",
       " ('维德', 0.9975745677947998),\n",
       " ('父亲', 0.9974889159202576),\n",
       " ('吴岳', 0.9974163174629211),\n",
       " ('嘴里', 0.9974045157432556),\n",
       " ('房间', 0.9973384737968445)]"
      ]
     },
     "execution_count": 32,
     "metadata": {},
     "output_type": "execute_result"
    }
   ],
   "source": [
    "model.wv.most_similar('微笑',topn = 20)"
   ]
  },
  {
   "cell_type": "code",
   "execution_count": 33,
   "id": "1c4e6562",
   "metadata": {},
   "outputs": [
    {
     "data": {
      "text/plain": [
       "[('关一帆', 0.9988042712211609),\n",
       " ('一声', 0.9986728429794312),\n",
       " ('深水', 0.9986571073532104),\n",
       " ('穿着', 0.9986446499824524),\n",
       " ('两人', 0.9986400008201599),\n",
       " ('一会儿', 0.998639702796936),\n",
       " ('透过', 0.9986318945884705),\n",
       " ('太空服', 0.9986276626586914),\n",
       " ('认出', 0.99860680103302),\n",
       " ('吃力', 0.9985527396202087),\n",
       " ('医生', 0.998546302318573),\n",
       " ('抬头', 0.9985365867614746),\n",
       " ('床上', 0.9985185861587524),\n",
       " ('王子', 0.9985117316246033),\n",
       " ('递给', 0.9984908103942871),\n",
       " ('拿出', 0.9984869360923767),\n",
       " ('走出', 0.9984642863273621),\n",
       " ('雪茄', 0.9984604716300964),\n",
       " ('一把', 0.9984591007232666),\n",
       " ('卫队长', 0.9984415769577026)]"
      ]
     },
     "execution_count": 33,
     "metadata": {},
     "output_type": "execute_result"
    }
   ],
   "source": [
    "model.wv.most_similar('章北海',topn = 20)"
   ]
  },
  {
   "cell_type": "code",
   "execution_count": 34,
   "id": "c7f626b0",
   "metadata": {},
   "outputs": [
    {
     "data": {
      "text/plain": [
       "[('太阳系', 0.9931864142417908),\n",
       " ('三体', 0.9918424487113953),\n",
       " ('主力', 0.9904290437698364),\n",
       " ('半世纪', 0.9884446263313293),\n",
       " ('舰队', 0.9874810576438904),\n",
       " ('文明', 0.9847204089164734),\n",
       " ('人类', 0.9826560020446777),\n",
       " ('第三方', 0.9794995784759521),\n",
       " ('第二支', 0.9776524305343628),\n",
       " ('宇宙', 0.9763608574867249),\n",
       " ('技术', 0.970729649066925),\n",
       " ('世界', 0.9667032361030579),\n",
       " ('光速', 0.964207112789154),\n",
       " ('到达', 0.9471762776374817),\n",
       " ('湮灭', 0.9466236233711243),\n",
       " ('国际', 0.9463683366775513),\n",
       " ('恒星', 0.9453749060630798),\n",
       " ('飞船', 0.9410667419433594),\n",
       " ('劫持', 0.9410442113876343),\n",
       " ('两大', 0.9378057718276978)]"
      ]
     },
     "execution_count": 34,
     "metadata": {},
     "output_type": "execute_result"
    }
   ],
   "source": [
    "model.wv.most_similar('地球',topn = 20)"
   ]
  },
  {
   "cell_type": "code",
   "execution_count": 35,
   "id": "8ff0b099",
   "metadata": {},
   "outputs": [
    {
     "data": {
      "text/plain": [
       "[('地球', 0.9918426275253296),\n",
       " ('文明', 0.9854221343994141),\n",
       " ('第三方', 0.9842303395271301),\n",
       " ('半世纪', 0.9832481741905212),\n",
       " ('人类', 0.9819988012313843),\n",
       " ('太阳系', 0.9772392511367798),\n",
       " ('主力', 0.9760228395462036),\n",
       " ('舰队', 0.9690003395080566),\n",
       " ('第二支', 0.9625893831253052),\n",
       " ('世界', 0.9546692967414856),\n",
       " ('技术', 0.9537177681922913),\n",
       " ('宇宙', 0.9535759091377258),\n",
       " ('光速', 0.9282631874084473),\n",
       " ('循环', 0.92249596118927),\n",
       " ('国际', 0.9157198071479797),\n",
       " ('湮灭', 0.9147734045982361),\n",
       " ('量子态', 0.9127991199493408),\n",
       " ('两大', 0.9123697876930237),\n",
       " ('劫持', 0.9092939496040344),\n",
       " ('恒星', 0.9032451510429382)]"
      ]
     },
     "execution_count": 35,
     "metadata": {},
     "output_type": "execute_result"
    }
   ],
   "source": [
    "model.wv.most_similar('三体',topn = 20)"
   ]
  },
  {
   "cell_type": "code",
   "execution_count": 36,
   "id": "e5bebb24",
   "metadata": {},
   "outputs": [
    {
     "data": {
      "text/plain": [
       "[('飞船', 0.9947131872177124),\n",
       " ('到达', 0.9859417080879211),\n",
       " ('舰队', 0.9852807521820068),\n",
       " ('太阳系', 0.9816735982894897),\n",
       " ('恒星', 0.9806360602378845),\n",
       " ('星系', 0.9732133746147156),\n",
       " ('主力', 0.9718908667564392),\n",
       " ('发射', 0.9699315428733826),\n",
       " ('观测', 0.9694288372993469),\n",
       " ('太空', 0.9693893194198608),\n",
       " ('星际', 0.9654591083526611),\n",
       " ('第二支', 0.9647210240364075),\n",
       " ('地球', 0.9642070531845093),\n",
       " ('行星', 0.964017927646637),\n",
       " ('宇宙', 0.9635806083679199),\n",
       " ('预警系统', 0.9624778628349304),\n",
       " ('技术', 0.9613428115844727),\n",
       " ('三星', 0.9611756205558777),\n",
       " ('目标', 0.9597076773643494),\n",
       " ('探测器', 0.9597041010856628)]"
      ]
     },
     "execution_count": 36,
     "metadata": {},
     "output_type": "execute_result"
    }
   ],
   "source": [
    "model.wv.most_similar('光速',topn = 20)"
   ]
  },
  {
   "cell_type": "code",
   "execution_count": 37,
   "id": "985244eb",
   "metadata": {},
   "outputs": [
    {
     "data": {
      "text/plain": [
       "0.8556772"
      ]
     },
     "execution_count": 37,
     "metadata": {},
     "output_type": "execute_result"
    }
   ],
   "source": [
    "model.wv.similarity('罗辑', '章北海')"
   ]
  },
  {
   "cell_type": "code",
   "execution_count": 38,
   "id": "e8f7c3bb",
   "metadata": {},
   "outputs": [
    {
     "data": {
      "text/plain": [
       "0.99544525"
      ]
     },
     "execution_count": 38,
     "metadata": {},
     "output_type": "execute_result"
    }
   ],
   "source": [
    "model.wv.similarity('希恩斯', '章北海')"
   ]
  },
  {
   "cell_type": "code",
   "execution_count": 39,
   "id": "5da45787",
   "metadata": {},
   "outputs": [
    {
     "data": {
      "text/plain": [
       "0.7625314"
      ]
     },
     "execution_count": 39,
     "metadata": {},
     "output_type": "execute_result"
    }
   ],
   "source": [
    "model.wv.similarity('罗辑', '雷迪亚兹')"
   ]
  },
  {
   "cell_type": "code",
   "execution_count": 40,
   "id": "2588b99b",
   "metadata": {},
   "outputs": [
    {
     "data": {
      "text/plain": [
       "0.7201686"
      ]
     },
     "execution_count": 40,
     "metadata": {},
     "output_type": "execute_result"
    }
   ],
   "source": [
    "model.wv.similarity('罗辑', '英雄')"
   ]
  },
  {
   "cell_type": "code",
   "execution_count": 41,
   "id": "5afb1326",
   "metadata": {},
   "outputs": [
    {
     "data": {
      "text/plain": [
       "0.76021326"
      ]
     },
     "execution_count": 41,
     "metadata": {},
     "output_type": "execute_result"
    }
   ],
   "source": [
    "model.wv.similarity('罗辑', '罪犯')"
   ]
  },
  {
   "cell_type": "code",
   "execution_count": 42,
   "id": "87524b9a",
   "metadata": {},
   "outputs": [
    {
     "data": {
      "text/plain": [
       "0.99523824"
      ]
     },
     "execution_count": 42,
     "metadata": {},
     "output_type": "execute_result"
    }
   ],
   "source": [
    "model.wv.similarity('罪犯', '英雄')"
   ]
  },
  {
   "cell_type": "code",
   "execution_count": 43,
   "id": "c24c8c8f",
   "metadata": {},
   "outputs": [
    {
     "data": {
      "text/plain": [
       "[('人类', 0.9952870011329651),\n",
       " ('世界', 0.9875012040138245),\n",
       " ('三体', 0.9854220747947693),\n",
       " ('地球', 0.9847205281257629),\n",
       " ('宇宙', 0.9797477722167969),\n",
       " ('主力', 0.9769353270530701),\n",
       " ('技术', 0.9738417863845825),\n",
       " ('半世纪', 0.9732540845870972),\n",
       " ('第三方', 0.9732197523117065),\n",
       " ('太阳系', 0.9606009125709534),\n",
       " ('舰队', 0.9545451402664185),\n",
       " ('第二支', 0.9530977606773376),\n",
       " ('国际', 0.9499229788780212),\n",
       " ('阳光计划', 0.9394691586494446),\n",
       " ('量子态', 0.9378403425216675),\n",
       " ('两大', 0.9290392398834229),\n",
       " ('劫持', 0.9276809096336365),\n",
       " ('光速', 0.9262127876281738),\n",
       " ('信息', 0.9253790378570557),\n",
       " ('星系', 0.9235439300537109)]"
      ]
     },
     "execution_count": 43,
     "metadata": {},
     "output_type": "execute_result"
    }
   ],
   "source": [
    "model.wv.most_similar('文明',topn = 20)"
   ]
  },
  {
   "cell_type": "markdown",
   "id": "76ebd318",
   "metadata": {},
   "source": [
    "$word2vec$无法处理一词多义的问题，因为$word2vec$对于每一个单词来说仅能生成一个词向量"
   ]
  },
  {
   "cell_type": "code",
   "execution_count": null,
   "id": "c608c5db",
   "metadata": {},
   "outputs": [],
   "source": []
  }
 ],
 "metadata": {
  "kernelspec": {
   "display_name": "Python 3",
   "language": "python",
   "name": "python3"
  },
  "language_info": {
   "codemirror_mode": {
    "name": "ipython",
    "version": 3
   },
   "file_extension": ".py",
   "mimetype": "text/x-python",
   "name": "python",
   "nbconvert_exporter": "python",
   "pygments_lexer": "ipython3",
   "version": "3.8.8"
  }
 },
 "nbformat": 4,
 "nbformat_minor": 5
}
