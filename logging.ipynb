{
 "cells": [
  {
   "cell_type": "code",
   "execution_count": 2,
   "id": "92c6f74f",
   "metadata": {},
   "outputs": [],
   "source": [
    "# -*- coding:utf-8 -*-\n",
    "import logging\n"
   ]
  },
  {
   "cell_type": "code",
   "execution_count": 5,
   "id": "fcbfc051",
   "metadata": {},
   "outputs": [],
   "source": [
    "#默认的warning级别，只输出warning以上的\n",
    "#使用basicConfig()来指定日志级别和相关信息\n",
    "\n",
    "logging.basicConfig(level=logging.DEBUG #设置日志输出格式\n",
    "                    ,filename=\"demo.log\" #log日志输出的文件位置和文件名\n",
    "                    ,filemode=\"w\" #文件的写入格式，w为重新写入文件，默认是追加\n",
    "                    ,format=\"%(asctime)s - %(name)s - %(levelname)-9s - %(filename)-8s : %(lineno)s line - %(message)s\" #日志输出的格式\n",
    "                    # -8表示占位符，让输出左对齐，输出长度都为8位\n",
    "                    ,datefmt=\"%Y-%m-%d %H:%M:%S\" #时间输出的格式\n",
    "                    )\n",
    "\n",
    "logging.debug(\"This is  DEBUG !!\")\n",
    "logging.info(\"This is  INFO !!\")\n",
    "logging.warning(\"This is  WARNING !!\")\n",
    "logging.error(\"This is  ERROR !!\")\n",
    "logging.critical(\"This is  CRITICAL !!\")\n",
    "\n",
    "#在实际项目中，捕获异常的时候，如果使用logging.error(e)，只提示指定的logging信息，不会出现\n",
    "#为什么会错的信息，所以要使用logging.exception(e)去记录。\n",
    "\n",
    "try:\n",
    "    3/0\n",
    "except Exception as e:\n",
    "    logging.error(e)\n",
    "    logging.exception(e)"
   ]
  },
  {
   "cell_type": "code",
   "execution_count": null,
   "id": "8c391936",
   "metadata": {},
   "outputs": [],
   "source": []
  }
 ],
 "metadata": {
  "kernelspec": {
   "display_name": "Python 3",
   "language": "python",
   "name": "python3"
  },
  "language_info": {
   "codemirror_mode": {
    "name": "ipython",
    "version": 3
   },
   "file_extension": ".py",
   "mimetype": "text/x-python",
   "name": "python",
   "nbconvert_exporter": "python",
   "pygments_lexer": "ipython3",
   "version": "3.8.8"
  }
 },
 "nbformat": 4,
 "nbformat_minor": 5
}
